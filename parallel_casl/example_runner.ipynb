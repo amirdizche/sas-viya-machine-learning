{
 "cells": [
  {
   "cell_type": "code",
   "execution_count": 1,
   "source": [
    "import swat"
   ],
   "outputs": [],
   "metadata": {}
  },
  {
   "cell_type": "code",
   "execution_count": 2,
   "source": [
    "# Connect to CAS Server, Load CASL Server Actionset\n",
    "s = swat.CAS(\"mycasserver.mycompany.com\",12345)\n",
    "s.loadactionset(\"sccasl\")"
   ],
   "outputs": [
    {
     "output_type": "stream",
     "name": "stdout",
     "text": [
      "NOTE: Added action set 'sccasl'.\n"
     ]
    },
    {
     "output_type": "execute_result",
     "data": {
      "text/plain": [
       "[actionset]\n",
       "\n",
       " 'sccasl'\n",
       "\n",
       "+ Elapsed: 0.033s, user: 0.146s, sys: 0.0225s, mem: 7.43mb"
      ],
      "text/html": [
       "<div class=\"cas-results-key\"><b>&#167; actionset</b></div>\n",
       "<div class=\"cas-results-body\">\n",
       "<div>sccasl</div>\n",
       "</div>\n",
       "<div class=\"cas-output-area\"></div>\n",
       "<p class=\"cas-results-performance\"><small><span class=\"cas-elapsed\">elapsed 0.033s</span> &#183; <span class=\"cas-user\">user 0.146s</span> &#183; <span class=\"cas-sys\">sys 0.0225s</span> &#183; <span class=\"cas-memory\">mem 7.43MB</span></small></p>"
      ]
     },
     "metadata": {},
     "execution_count": 2
    }
   ],
   "metadata": {}
  },
  {
   "cell_type": "code",
   "execution_count": 3,
   "source": [
    "# Upload HMEQ, Promote\n",
    "s.upload(\"hmeq.sas7bdat\",casout=dict(name=\"HMEQ\",promote=True))"
   ],
   "outputs": [
    {
     "output_type": "stream",
     "name": "stdout",
     "text": [
      "NOTE: Cloud Analytic Services made the uploaded file available as table HMEQ in caslib CASUSERHDFS(rithar).\n",
      "NOTE: The table HMEQ has been created in caslib CASUSERHDFS(rithar) from binary data uploaded to Cloud Analytic Services.\n"
     ]
    },
    {
     "output_type": "execute_result",
     "data": {
      "text/plain": [
       "[caslib]\n",
       "\n",
       " 'CASUSERHDFS(rithar)'\n",
       "\n",
       "[tableName]\n",
       "\n",
       " 'HMEQ'\n",
       "\n",
       "[casTable]\n",
       "\n",
       " CASTable('HMEQ', caslib='CASUSERHDFS(rithar)')\n",
       "\n",
       "+ Elapsed: 0.143s, user: 0.102s, sys: 0.148s, mem: 21.5mb"
      ],
      "text/html": [
       "<div class=\"cas-results-key\"><b>&#167; caslib</b></div>\n",
       "<div class=\"cas-results-body\">\n",
       "<div>CASUSERHDFS(rithar)</div>\n",
       "</div>\n",
       "<div class=\"cas-results-key\"><hr/><b>&#167; tableName</b></div>\n",
       "<div class=\"cas-results-body\">\n",
       "<div>HMEQ</div>\n",
       "</div>\n",
       "<div class=\"cas-results-key\"><hr/><b>&#167; casTable</b></div>\n",
       "<div class=\"cas-results-body\">\n",
       "<div>CASTable('HMEQ', caslib='CASUSERHDFS(rithar)')</div>\n",
       "</div>\n",
       "<div class=\"cas-output-area\"></div>\n",
       "<p class=\"cas-results-performance\"><small><span class=\"cas-elapsed\">elapsed 0.143s</span> &#183; <span class=\"cas-user\">user 0.102s</span> &#183; <span class=\"cas-sys\">sys 0.148s</span> &#183; <span class=\"cas-memory\">mem 21.5MB</span></small></p>"
      ]
     },
     "metadata": {},
     "execution_count": 3
    }
   ],
   "metadata": {}
  },
  {
   "cell_type": "code",
   "execution_count": 4,
   "source": [
    "def run_example(example_name):\n",
    "    \"\"\"Runs parallel casl examples\"\"\"\n",
    "\n",
    "    casl_code = \"\"\n",
    "\n",
    "    # Read Library of CASL functions\n",
    "    with open(\"library.casl\") as library:\n",
    "        casl_code += library.read() + \"\\n\\n\"\n",
    "\n",
    "    # Read in example\n",
    "    with open(example_name + \".casl\") as example:\n",
    "        casl_code += example.read()\n",
    "\n",
    "    # Submit CASL\n",
    "    return s.sccasl.runCasl(code = casl_code)"
   ],
   "outputs": [],
   "metadata": {}
  },
  {
   "cell_type": "code",
   "execution_count": 5,
   "source": [
    "run_example(\"example_1\")"
   ],
   "outputs": [
    {
     "output_type": "stream",
     "name": "stdout",
     "text": [
      "NOTE: Active Session now server.\n"
     ]
    },
    {
     "output_type": "execute_result",
     "data": {
      "text/plain": [
       "+ Elapsed: 1.34s, user: 0.0679s, sys: 0.113s, mem: 1.94mb"
      ],
      "text/html": [
       "<div class=\"cas-output-area\"></div>\n",
       "<p class=\"cas-results-performance\"><small><span class=\"cas-elapsed\">elapsed 1.34s</span> &#183; <span class=\"cas-user\">user 0.0679s</span> &#183; <span class=\"cas-sys\">sys 0.113s</span> &#183; <span class=\"cas-memory\">mem 1.94MB</span></small></p>"
      ]
     },
     "metadata": {},
     "execution_count": 5
    }
   ],
   "metadata": {}
  },
  {
   "cell_type": "code",
   "execution_count": 6,
   "source": [
    "run_example(\"example_2\")"
   ],
   "outputs": [
    {
     "output_type": "stream",
     "name": "stdout",
     "text": [
      "dictionary ( 2 entries, 2 used);\n",
      " [GBTREE] dictionary ( 1 entries, 1 used);\n",
      "  [ModelInfo] Table ( [22] Rows [2] columns\n",
      "Column Names:\n",
      "  [1] Descr            [                ] (char)\n",
      "  [2] Value            [                ] (double)\n",
      " [FOREST] dictionary ( 1 entries, 1 used);\n",
      "  [ModelInfo] Table ( [19] Rows [2] columns\n",
      "Column Names:\n",
      "  [1] Descr            [                ] (char)\n",
      "  [2] Value            [                ] (double)\n",
      "{Descr                            Value  \n",
      "Number of Trees                                   50  \n",
      "Distribution                                       2  \n",
      "Learning Rate                                    0.1  \n",
      "Subsampling Rate                                 0.5  \n",
      "Number of Selected Variables (M)                  11  \n",
      "Number of Bins                                    50  \n",
      "Number of Variables                               11  \n",
      "Max Number of Tree Nodes                          31  \n",
      "Min Number of Tree Nodes                          23  \n",
      "Max Number of Branches                             2  \n",
      "Min Number of Branches                             2  \n",
      "Max Number of Levels                               5  \n",
      "Min Number of Levels                               5  \n",
      "Max Number of Leaves                              16  \n",
      "Min Number of Leaves                              12  \n",
      "Maximum Size of Leaves                          2583  \n",
      "Minimum Size of Leaves                             5  \n",
      "Random Number Seed                                 0  \n",
      "Lasso (L1) penalty                                 0  \n",
      "Ridge (L2) penalty                                 1  \n",
      "Actual Number of Trees                            50  \n",
      "Average number of Leaves                       14.76  \n",
      ",Descr                            Value  \n",
      "Number of Trees                                   50  \n",
      "Number of Selected Variables (M)                   4  \n",
      "Random Number Seed                                 0  \n",
      "Bootstrap Percentage (%)                63.212055882  \n",
      "Number of Bins                                    50  \n",
      "Number of Variables                               11  \n",
      "Confidence Level for Pruning                    0.25  \n",
      "Max Number of Tree Nodes                          35  \n",
      "Min Number of Tree Nodes                          15  \n",
      "Max Number of Branches                             2  \n",
      "Min Number of Branches                             2  \n",
      "Max Number of Levels                               6  \n",
      "Min Number of Levels                               6  \n",
      "Max Number of Leaves                              18  \n",
      "Min Number of Leaves                               8  \n",
      "Maximum Size of Leaves                          3607  \n",
      "Minimum Size of Leaves                             5  \n",
      "Out-of-Bag MCR (%)                                 .  \n",
      "Average number of Leaves                       13.76  \n",
      "}\n"
     ]
    },
    {
     "output_type": "execute_result",
     "data": {
      "text/plain": [
       "+ Elapsed: 4.11s, user: 0.0227s, sys: 0.0349s, mem: 12.2mb"
      ],
      "text/html": [
       "<div class=\"cas-output-area\"></div>\n",
       "<p class=\"cas-results-performance\"><small><span class=\"cas-elapsed\">elapsed 4.11s</span> &#183; <span class=\"cas-user\">user 0.0227s</span> &#183; <span class=\"cas-sys\">sys 0.0349s</span> &#183; <span class=\"cas-memory\">mem 12.2MB</span></small></p>"
      ]
     },
     "metadata": {},
     "execution_count": 6
    }
   ],
   "metadata": {}
  },
  {
   "cell_type": "code",
   "execution_count": 7,
   "source": [
    "run_example(\"example_3\")"
   ],
   "outputs": [
    {
     "output_type": "stream",
     "name": "stdout",
     "text": [
      "NOTE: Active Session now server.\n",
      "NOTE: Added action set 'decisionTree'.\n",
      "NOTE: 1034331 bytes were written to the table \"hmeq_gradboost\" in the caslib \"CASUSERHDFS(rithar)\".\n",
      "100 shapleys took: 8.9850921631  seconds\n"
     ]
    },
    {
     "output_type": "execute_result",
     "data": {
      "text/plain": [
       "+ Elapsed: 12.1s, user: 9.26s, sys: 10s, mem: 47.5mb"
      ],
      "text/html": [
       "<div class=\"cas-output-area\"></div>\n",
       "<p class=\"cas-results-performance\"><small><span class=\"cas-elapsed\">elapsed 12.1s</span> &#183; <span class=\"cas-user\">user 9.26s</span> &#183; <span class=\"cas-sys\">sys 10s</span> &#183; <span class=\"cas-memory\">mem 47.5MB</span></small></p>"
      ]
     },
     "metadata": {},
     "execution_count": 7
    }
   ],
   "metadata": {}
  },
  {
   "cell_type": "code",
   "execution_count": 8,
   "source": [
    "run_example(\"example_4\")"
   ],
   "outputs": [
    {
     "output_type": "stream",
     "name": "stdout",
     "text": [
      "NOTE: The result table 'parallel results' has been created.\n",
      "NOTE: Active Session now server.\n",
      "NOTE: 1024616 bytes were written to the table \"hmeq_gradboost\" in the caslib \"CASUSERHDFS(rithar)\".\n",
      "NOTE: 1025424 bytes were written to the table \"hmeq_gradboost\" in the caslib \"CASUSERHDFS(rithar)\".\n",
      "NOTE: 1022120 bytes were written to the table \"hmeq_gradboost\" in the caslib \"CASUSERHDFS(rithar)\".\n",
      "NOTE: 1027016 bytes were written to the table \"hmeq_gradboost\" in the caslib \"CASUSERHDFS(rithar)\".\n",
      "NOTE: 1033272 bytes were written to the table \"hmeq_gradboost\" in the caslib \"CASUSERHDFS(rithar)\".\n",
      "NOTE: 1033096 bytes were written to the table \"hmeq_gradboost\" in the caslib \"CASUSERHDFS(rithar)\".\n",
      "NOTE: 1043632 bytes were written to the table \"hmeq_gradboost\" in the caslib \"CASUSERHDFS(rithar)\".\n",
      "NOTE: 1015232 bytes were written to the table \"hmeq_gradboost\" in the caslib \"CASUSERHDFS(rithar)\".\n",
      "NOTE: 1007592 bytes were written to the table \"hmeq_gradboost\" in the caslib \"CASUSERHDFS(rithar)\".\n",
      "NOTE: 1027256 bytes were written to the table \"hmeq_gradboost\" in the caslib \"CASUSERHDFS(rithar)\".\n",
      "NOTE: 1012120 bytes were written to the table \"hmeq_gradboost\" in the caslib \"CASUSERHDFS(rithar)\".\n",
      "NOTE: 997840 bytes were written to the table \"hmeq_gradboost\" in the caslib \"CASUSERHDFS(rithar)\".\n",
      "NOTE: 1020416 bytes were written to the table \"hmeq_gradboost\" in the caslib \"CASUSERHDFS(rithar)\".\n",
      "NOTE: 1010888 bytes were written to the table \"hmeq_gradboost\" in the caslib \"CASUSERHDFS(rithar)\".\n",
      "NOTE: 1027216 bytes were written to the table \"hmeq_gradboost\" in the caslib \"CASUSERHDFS(rithar)\".\n",
      "NOTE: 1022928 bytes were written to the table \"hmeq_gradboost\" in the caslib \"CASUSERHDFS(rithar)\".\n",
      "NOTE: 1002712 bytes were written to the table \"hmeq_gradboost\" in the caslib \"CASUSERHDFS(rithar)\".\n",
      "NOTE: 1020096 bytes were written to the table \"hmeq_gradboost\" in the caslib \"CASUSERHDFS(rithar)\".\n",
      "NOTE: 1025976 bytes were written to the table \"hmeq_gradboost\" in the caslib \"CASUSERHDFS(rithar)\".\n",
      "NOTE: 1022912 bytes were written to the table \"hmeq_gradboost\" in the caslib \"CASUSERHDFS(rithar)\".\n",
      "NOTE: 1041048 bytes were written to the table \"hmeq_gradboost\" in the caslib \"CASUSERHDFS(rithar)\".\n",
      "NOTE: 1014064 bytes were written to the table \"hmeq_gradboost\" in the caslib \"CASUSERHDFS(rithar)\".\n",
      "NOTE: 1021232 bytes were written to the table \"hmeq_gradboost\" in the caslib \"CASUSERHDFS(rithar)\".\n",
      "NOTE: 1031184 bytes were written to the table \"hmeq_gradboost\" in the caslib \"CASUSERHDFS(rithar)\".\n",
      "NOTE: 1035712 bytes were written to the table \"hmeq_gradboost\" in the caslib \"CASUSERHDFS(rithar)\".\n",
      "NOTE: 1024304 bytes were written to the table \"hmeq_gradboost\" in the caslib \"CASUSERHDFS(rithar)\".\n",
      "NOTE: 1019136 bytes were written to the table \"hmeq_gradboost\" in the caslib \"CASUSERHDFS(rithar)\".\n",
      "NOTE: 1020872 bytes were written to the table \"hmeq_gradboost\" in the caslib \"CASUSERHDFS(rithar)\".\n",
      "NOTE: 1023472 bytes were written to the table \"hmeq_gradboost\" in the caslib \"CASUSERHDFS(rithar)\".\n",
      "NOTE: 1034344 bytes were written to the table \"hmeq_gradboost\" in the caslib \"CASUSERHDFS(rithar)\".\n",
      "NOTE: 1036496 bytes were written to the table \"hmeq_gradboost\" in the caslib \"CASUSERHDFS(rithar)\".\n",
      "NOTE: 996192 bytes were written to the table \"hmeq_gradboost\" in the caslib \"CASUSERHDFS(rithar)\".\n",
      "NOTE: 1018200 bytes were written to the table \"hmeq_gradboost\" in the caslib \"CASUSERHDFS(rithar)\".\n",
      "NOTE: 1024096 bytes were written to the table \"hmeq_gradboost\" in the caslib \"CASUSERHDFS(rithar)\".\n",
      "NOTE: 985968 bytes were written to the table \"hmeq_gradboost\" in the caslib \"CASUSERHDFS(rithar)\".\n",
      "  NumberOfSessions             1Worker             2Worker             3Worker  \n",
      "                 1        41.884204149        57.860013008        62.014759064  \n",
      "                 2        22.943088055        31.713279009        34.803741932  \n",
      "                 3           17.026299        24.614816904        24.134253025  \n",
      "                 4        13.502698898        18.473088026        19.442301035  \n",
      "                 5        11.740943909        18.070387125        14.740992069  \n",
      "                10        8.7595388889        14.323460102        9.2647721767  \n",
      "                20        9.9211230278        8.4554359913        12.274780989  \n",
      "           4Worker             5Worker  \n",
      "      66.528924942        66.858743906  \n",
      "      33.892648935        34.033645868  \n",
      "      35.805631876         25.66722703  \n",
      "      23.685046911        19.031263828  \n",
      "      16.122848988        22.846090078  \n",
      "      16.669258118        13.594599009  \n",
      "      10.450537205        10.285652161  \n"
     ]
    },
    {
     "output_type": "execute_result",
     "data": {
      "text/plain": [
       "+ Elapsed: 993s, user: 344s, sys: 364s, mem: 15.2mb"
      ],
      "text/html": [
       "<div class=\"cas-output-area\"></div>\n",
       "<p class=\"cas-results-performance\"><small><span class=\"cas-elapsed\">elapsed 993s</span> &#183; <span class=\"cas-user\">user 344s</span> &#183; <span class=\"cas-sys\">sys 364s</span> &#183; <span class=\"cas-memory\">mem 15.2MB</span></small></p>"
      ]
     },
     "metadata": {},
     "execution_count": 8
    }
   ],
   "metadata": {}
  },
  {
   "cell_type": "code",
   "execution_count": 9,
   "source": [
    "run_example(\"example_5\")"
   ],
   "outputs": [
    {
     "output_type": "stream",
     "name": "stdout",
     "text": [
      "nTrees: 50\n",
      "MCLL:   1.0458804105\n",
      " \n",
      "nTrees: 100\n",
      "MCLL:   0.9987795851\n",
      " \n",
      "nTrees: 150\n",
      "MCLL:   0.9754991562\n",
      " \n",
      "nTrees: 200\n",
      "MCLL:   0.8710356779\n",
      " \n",
      "nTrees: 250\n",
      "MCLL:   0.8597489824\n",
      " \n",
      "nTrees: 500\n",
      "MCLL:   0.7319280201\n",
      " \n",
      "nTrees: 1000\n",
      "MCLL:   0.5726496651\n",
      " \n",
      "nTrees: 2000\n",
      "MCLL:   0.6047685589\n",
      " \n",
      "nTrees: 5000\n",
      "MCLL:   0.5498411671\n",
      " \n"
     ]
    },
    {
     "output_type": "execute_result",
     "data": {
      "text/plain": [
       "+ Elapsed: 17.6s, user: 0.0442s, sys: 0.0465s, mem: 12.4mb"
      ],
      "text/html": [
       "<div class=\"cas-output-area\"></div>\n",
       "<p class=\"cas-results-performance\"><small><span class=\"cas-elapsed\">elapsed 17.6s</span> &#183; <span class=\"cas-user\">user 0.0442s</span> &#183; <span class=\"cas-sys\">sys 0.0465s</span> &#183; <span class=\"cas-memory\">mem 12.4MB</span></small></p>"
      ]
     },
     "metadata": {},
     "execution_count": 9
    }
   ],
   "metadata": {}
  },
  {
   "cell_type": "code",
   "execution_count": 10,
   "source": [
    "run_example(\"example_6\")"
   ],
   "outputs": [
    {
     "output_type": "stream",
     "name": "stdout",
     "text": [
      "NOTE: Active Session now server.\n",
      "NOTE: Added action set 'forestAssess'.\n",
      "{actionset=forestAssess}\n",
      "{caslib=CASUSERHDFS(rithar),tableName=FORESTASSESS}\n",
      "NOTE: Active Session now server.\n",
      "NOTE: Added action set 'forestAssess'.\n",
      "{actionset=forestAssess}\n",
      "NOTE: Active Session now server.\n",
      "NOTE: Added action set 'forestAssess'.\n",
      "{actionset=forestAssess}\n",
      "NOTE: Active Session now server.\n",
      "NOTE: Added action set 'forestAssess'.\n",
      "{actionset=forestAssess}\n",
      "NOTE: Active Session now server.\n",
      "NOTE: Added action set 'forestAssess'.\n",
      "{actionset=forestAssess}\n",
      "NOTE: Active Session now server.\n",
      "NOTE: Added action set 'forestAssess'.\n",
      "{actionset=forestAssess}\n",
      "NOTE: Active Session now server.\n",
      "NOTE: Added action set 'forestAssess'.\n",
      "{actionset=forestAssess}\n",
      "NOTE: Active Session now server.\n",
      "NOTE: Added action set 'forestAssess'.\n",
      "{actionset=forestAssess}\n",
      "NOTE: Active Session now server.\n",
      "NOTE: Added action set 'forestAssess'.\n",
      "{actionset=forestAssess}\n",
      "NOTE: Active Session now server.\n",
      "NOTE: Added action set 'forestAssess'.\n",
      "{actionset=forestAssess}\n",
      "nTrees: 50\n",
      "MCLL:   1.0211414908\n",
      " \n",
      "nTrees: 100\n",
      "MCLL:   0.9963926727\n",
      " \n",
      "nTrees: 150\n",
      "MCLL:   0.9599328132\n",
      " \n",
      "nTrees: 200\n",
      "MCLL:   0.8556435974\n",
      " \n",
      "nTrees: 250\n",
      "MCLL:   0.8426259047\n",
      " \n",
      "nTrees: 500\n",
      "MCLL:   0.7014184806\n",
      " \n",
      "nTrees: 1000\n",
      "MCLL:   0.6311870518\n",
      " \n",
      "nTrees: 2000\n",
      "MCLL:   0.5699538119\n",
      " \n",
      "nTrees: 5000\n",
      "MCLL:   0.5497178118\n",
      " \n"
     ]
    },
    {
     "output_type": "execute_result",
     "data": {
      "text/plain": [
       "+ Elapsed: 19s, user: 0.0881s, sys: 0.154s, mem: 14.5mb"
      ],
      "text/html": [
       "<div class=\"cas-output-area\"></div>\n",
       "<p class=\"cas-results-performance\"><small><span class=\"cas-elapsed\">elapsed 19s</span> &#183; <span class=\"cas-user\">user 0.0881s</span> &#183; <span class=\"cas-sys\">sys 0.154s</span> &#183; <span class=\"cas-memory\">mem 14.5MB</span></small></p>"
      ]
     },
     "metadata": {},
     "execution_count": 10
    }
   ],
   "metadata": {}
  }
 ],
 "metadata": {
  "orig_nbformat": 4,
  "language_info": {
   "name": "python",
   "version": "3.8.5",
   "mimetype": "text/x-python",
   "codemirror_mode": {
    "name": "ipython",
    "version": 3
   },
   "pygments_lexer": "ipython3",
   "nbconvert_exporter": "python",
   "file_extension": ".py"
  },
  "kernelspec": {
   "name": "python3",
   "display_name": "Python 3.8.5 64-bit"
  },
  "interpreter": {
   "hash": "767d51c1340bd893661ea55ea3124f6de3c7a262a8b4abca0554b478b1e2ff90"
  }
 },
 "nbformat": 4,
 "nbformat_minor": 2
}